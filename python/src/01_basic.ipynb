{
 "cells": [
  {
   "cell_type": "markdown",
   "metadata": {},
   "source": [
    "# Basic"
   ]
  },
  {
   "cell_type": "code",
   "execution_count": null,
   "metadata": {},
   "outputs": [],
   "source": [
    "filename = './result/basic_seafood.txt'\n",
    "with open(filename, 'w') as f:\n",
    "    f.write(\"I love seafood2.\\n\")\n",
    "with open(filename, 'a') as f:\n",
    "    f.write(\"I love seafood seafood.\\n\")\n",
    "with open (filename, 'r') as f:\n",
    "    lines=f.readlines()\n",
    "for line in lines:\n",
    "    print(line)"
   ]
  },
  {
   "cell_type": "code",
   "execution_count": 4,
   "metadata": {},
   "outputs": [
    {
     "name": "stdout",
     "output_type": "stream",
     "text": [
      "0 141 4\n",
      "1 142 5\n",
      "2 143 6\n",
      "3 144 7\n"
     ]
    }
   ],
   "source": [
    "subTitle = [0,1,2,3]\n",
    "image = [4,5,6,7]\n",
    "for st,loc,img in zip(subTitle,range(141,145),image):\n",
    "    print(st, loc, img)"
   ]
  },
  {
   "cell_type": "code",
   "execution_count": null,
   "metadata": {},
   "outputs": [],
   "source": [
    "temp = input(\"請輸入答案:\")\n",
    "temp = int(temp)\n",
    "tempnum = []\n",
    "flag = 0\n",
    "judge = 0\n",
    "while(judge == 0):\n",
    "    guess = input(\"請輸入猜測:\")\n",
    "    guess = int(guess)\n",
    "    for i in tempnum:\n",
    "        if(i==guess):\n",
    "            print(\"真的會玩?\")\n",
    "            flag = 1\n",
    "    if(flag!=1):\n",
    "        if(temp >guess):\n",
    "            print(\"大一點OK?\")\n",
    "        elif(temp<guess):\n",
    "            print(\"小一點，懂ㄇ?\")\n",
    "        else:\n",
    "            print(\"阿不就很會猜，猜數字博士喔\")\n",
    "            judge = 1\n",
    "        tempnum.append(guess)\n",
    "    flag = 0    "
   ]
  },
  {
   "cell_type": "markdown",
   "metadata": {},
   "source": [
    "# Pandas"
   ]
  },
  {
   "cell_type": "code",
   "execution_count": null,
   "metadata": {},
   "outputs": [],
   "source": [
    "import pandas\n",
    "def IQR (current):\n",
    "    '''\n",
    "        網路上找的四分位距的算法是 a/4 如果有小數就取整數+1位 沒有就取(該位+下一位)/2\n",
    "        而ppt上的算法是 Q1中位數前的中間兩位 Q3中位數後的中間兩位\n",
    "        不知道要用哪個算法\n",
    "    '''\n",
    "    current.sort()#排序\n",
    "    b = len(current)\n",
    "    Q1 = (current[int(b*0.25)]+current[int(b*0.25)+1])/2 #第一四分位數\n",
    "    Q3 = (current[int(b*0.75)]+current[int(b*0.75)+1])/2 #第三四分位數\n",
    "    return (Q3-Q1)\n",
    "df = pandas.read_csv(\"./doc/boyGirlMarryNumber.csv\",encoding= \"big5\")\n",
    "df[\"sum\"] = df.sum(axis=1) #算總和\n",
    "a = [] #存要被刪的東西\n",
    "for i in range(24):\n",
    "    if(df.iloc[i,11] < 5000):\n",
    "        a.append(i) #存要被刪的東西\n",
    "for i in range(len(a)):\n",
    "    df = df.drop(a[i]) #刪除\n",
    "df[\"IQR\"] = df.iloc[:,1]#先\n",
    "for i in range(19):\n",
    "    d=[] #重製\n",
    "    for j in range(1,11):\n",
    "        d.append(df.iloc[i,j]) #存數據\n",
    "    df.iloc[i,12]=IQR(d)#進function後放到df.第 i row的第 12行,從0開始數\n",
    "print(df)"
   ]
  },
  {
   "cell_type": "code",
   "execution_count": null,
   "metadata": {},
   "outputs": [],
   "source": [
    "import pandas\n",
    "df = pandas.read_csv(\"./doc/marry_broken.csv\",encoding=\"big5\")\n",
    "df = df.drop_duplicates().reset_index(drop=True)#刪重複\n",
    "a = df.mean(axis=1)#算平均\n",
    "df = df.fillna(\"A\")#先填入一值\n",
    "for j in range(24):\n",
    "    for i in range(11):\n",
    "        if(df.iloc[j,i] == \"A\"):\n",
    "            df.iloc[j,i] = a.iloc[j] # a 也是一個pandas.core.series.Series\n",
    "#df.to_csv(\"./doc/output.csv\",encoding=\"big5\",index = False) #不知道要不要output\n",
    "print(df)"
   ]
  },
  {
   "cell_type": "markdown",
   "metadata": {},
   "source": [
    "# matplotlib"
   ]
  },
  {
   "cell_type": "code",
   "execution_count": null,
   "metadata": {},
   "outputs": [],
   "source": [
    "import matplotlib.pyplot as plt\n",
    "import numpy as np\n",
    "plt.xlim((-22,22))\n",
    "a = np.random.normal(0,10,10000)\n",
    "bin=[-20,-19,-18,-17,-16,-15,-14,-13,-12,-11,-10,-9,-8,-7,-6,-5,-4,-3,-2,-1,0,1,2,3,4,5,6,7,8,9,10,11,12,13,14,15,16,17,18,19,20]\n",
    "plt.hist(a,bins=bin)\n",
    "plt.show()"
   ]
  },
  {
   "cell_type": "code",
   "execution_count": null,
   "metadata": {},
   "outputs": [],
   "source": [
    "import matplotlib.pyplot as plt\n",
    "import seaborn as sns\n",
    "data= sns.load_dataset(\"iris\")\n",
    "plt.subplot(2,2,1)\n",
    "plt.scatter(data[\"sepal_length\"],data[\"sepal_length\"])\n",
    "plt.subplot(2,2,2)\n",
    "plt.scatter(data[\"sepal_length\"],data[\"sepal_width\"])\n",
    "plt.subplot(2,2,3)\n",
    "plt.scatter(data[\"sepal_length\"],data[\"petal_length\"])\n",
    "plt.subplot(2,2,4)\n",
    "plt.scatter(data[\"sepal_length\"],data[\"petal_width\"])\n",
    "plt.show()"
   ]
  },
  {
   "cell_type": "markdown",
   "metadata": {},
   "source": [
    "# Class"
   ]
  },
  {
   "cell_type": "code",
   "execution_count": null,
   "metadata": {},
   "outputs": [],
   "source": [
    "class Vehicle:\n",
    "    def __init__(self,a=0,p=0):#初始化\n",
    "        self.age=a\n",
    "        self.price=p\n",
    "class Car(Vehicle):\n",
    "    def __init__(self,a=0,p=0):\n",
    "        super().__init__(a,p)#繼承Class\n",
    "        self.magnification = 100 #定值不變\n",
    "    def count(self):\n",
    "        return (self.price/self.age)*self.magnification #算數\n",
    "class Bicycle(Vehicle):\n",
    "    def __init__(self,a=0,p=0):\n",
    "        super().__init__(a,p) #繼承Class\n",
    "        self.magnification = 10 #定值不變\n",
    "    def count(self):\n",
    "        return (self.price/self.age)*self.magnification\n",
    "somecar = Car(10,1000) #給值\n",
    "someby = Bicycle(20,500)\n",
    "print(somecar.count())\n",
    "print(someby.count())"
   ]
  },
  {
   "cell_type": "markdown",
   "metadata": {},
   "source": [
    "# Sklearn"
   ]
  },
  {
   "cell_type": "code",
   "execution_count": null,
   "metadata": {},
   "outputs": [],
   "source": [
    "from sklearn import datasets\n",
    "from sklearn.model_selection import train_test_split\n",
    "from sklearn.neighbors import KNeighborsClassifier\n",
    "import matplotlib.pyplot as plt\n",
    "iris = datasets.load_iris()#讀檔案\n",
    "iris_x = iris.data[0:,(0,2)] #從第0到最後取第0個值sepal_length和第2個值petal_length\n",
    "iris_y = iris.target#所要預測目標\n",
    "x_train, x_test, y_train, y_test = train_test_split(iris_x, iris_y, test_size=0.2)\n",
    "knn = KNeighborsClassifier(7)#創模型 k=7\n",
    "knn.fit(x_train, y_train)#訓練\n",
    "#print(knn.predict(x_test))\n",
    "#print(y_test)\n",
    "plt.scatter(x_test[:,0],x_test[:,1] ,marker='o',c=y_test)#將測試的畫在圖上\n",
    "plt.show()"
   ]
  },
  {
   "cell_type": "markdown",
   "metadata": {},
   "source": [
    "# Keras"
   ]
  },
  {
   "cell_type": "code",
   "execution_count": null,
   "metadata": {},
   "outputs": [],
   "source": [
    "import keras\n",
    "import matplotlib.pyplot as plt\n",
    "import numpy as np\n",
    "from PIL import Image\n",
    "from keras.utils import to_categorical\n",
    "from keras.models import Sequential\n",
    "from keras.layers import Dense\n",
    "from keras.datasets import mnist\n",
    "from keras.datasets import cifar10"
   ]
  },
  {
   "cell_type": "code",
   "execution_count": null,
   "metadata": {},
   "outputs": [],
   "source": [
    "(X_train, y_train),(X_test,y_test) = mnist.load_data()\n",
    "y_train = to_categorical(y_train)\n",
    "y_test = to_categorical(y_test)\n",
    "new_resize=[] #存轉換後數據\n",
    "new_test_resize=[]#存轉換後數據\n",
    "for i in range(60000):\n",
    "    new = Image.fromarray(X_train[i],\"L\")\n",
    "    new_resize.append(new.resize((14, 14)))\n",
    "\n",
    "X_train = np.resize(X_train,(60000,14,14))#將資料轉14*14\n",
    "\n",
    "for i in range(60000):\n",
    "    X_train[i] = new_resize[i] #將轉換後數據給X_train\n",
    "\n",
    "for i in range(10000):#同理\n",
    "    new = Image.fromarray(X_test[i],\"L\")\n",
    "    new_test_resize.append(new.resize((14, 14)))\n",
    "\n",
    "X_test = np.resize(X_test,(10000,14,14))\n",
    "\n",
    "for i in range(10000):\n",
    "    X_test[i] = new_test_resize[i]\n",
    "\n",
    "X_train = np.reshape(X_train,(60000,196))\n",
    "X_test = np.reshape(X_test,(10000,196))\n",
    "#建立模型\n",
    "model = Sequential()\n",
    "model.add(Dense(32,input_shape=(196,),activation='relu'))\n",
    "model.add(Dense(16,activation='relu'))\n",
    "model.add(Dense(8,activation='relu'))\n",
    "model.add(Dense(10,activation='softmax'))\n",
    "model.compile(loss = 'categorical_crossentropy',optimizer='adam',metrics=['accuracy'])\n",
    "model.fit(X_train,y_train,batch_size=256,epochs=15,validation_split=0.2)\n",
    "\n",
    "\n",
    "loss,accuracy = model.evaluate(X_test,y_test)\n",
    "print(accuracy)"
   ]
  },
  {
   "cell_type": "code",
   "execution_count": null,
   "metadata": {},
   "outputs": [],
   "source": [
    "(X_train_image, y_train_label),(X_test_image,y_test_label) = cifar10.load_data()\n",
    "y_train_label = to_categorical(y_train_label)\n",
    "y_test_label = to_categorical(y_test_label)\n",
    "new_gray=[]\n",
    "new_test_gray=[]\n",
    "\n",
    "for i in range(50000):\n",
    "    new = Image.fromarray(X_train_image[i],\"RGB\")\n",
    "    new_gray.append(new.convert('L'))#轉黑白圖\n",
    "\n",
    "X_train_image = np.resize(X_train_image,(50000,32,32))#因為黑白圖沒有(50000,32,32,3)沒有後面的3\n",
    "\n",
    "for i in range(50000):\n",
    "    X_train_image[i] = new_gray[i]  #將轉換後數據給X_train\n",
    "\n",
    "for i in range(10000):#同理\n",
    "    new = Image.fromarray(X_test_image[i],\"RGB\")\n",
    "    new_test_gray.append(new.convert('L'))\n",
    "\n",
    "X_test_image = np.resize(X_test_image,(10000,32,32))\n",
    "\n",
    "for i in range(10000):\n",
    "    X_test_image[i] = new_test_gray[i]\n",
    "\n",
    "X_train_image = np.reshape(X_train_image,(50000,1024))\n",
    "X_test_image = np.reshape(X_test_image,(10000,1024))\n",
    "#建立模型\n",
    "model = Sequential()\n",
    "model.add(Dense(32,input_shape=(1024,),activation='relu'))\n",
    "model.add(Dense(16,activation='relu'))\n",
    "model.add(Dense(8,activation='relu'))\n",
    "model.add(Dense(10,activation='softmax'))\n",
    "model.compile(loss = 'categorical_crossentropy',optimizer='adam',metrics=['accuracy'])\n",
    "model.fit(X_train_image,y_train_label,batch_size=256,epochs=10,validation_split=0.2)\n",
    "\n",
    "loss,accuracy = model.evaluate(X_test_image,y_test_label)\n",
    "print(accuracy)"
   ]
  },
  {
   "cell_type": "markdown",
   "metadata": {},
   "source": [
    "# Keras cifar10"
   ]
  },
  {
   "cell_type": "code",
   "execution_count": null,
   "metadata": {},
   "outputs": [],
   "source": [
    "from keras.datasets import fashion_mnist\n",
    "from keras.utils import to_categorical\n",
    "from keras.models import Sequential\n",
    "from keras.layers.convolutional import Conv2D\n",
    "from keras.layers.pooling import MaxPooling2D\n",
    "from keras.layers.core import Dense,Flatten\n",
    "from keras.layers import Dense, LSTM\n",
    "from sklearn.preprocessing import StandardScaler\n",
    "import matplotlib.pyplot as plt\n",
    "import numpy as np\n",
    "import pandas"
   ]
  },
  {
   "cell_type": "code",
   "execution_count": null,
   "metadata": {},
   "outputs": [],
   "source": [
    "(x_train,y_train),(x_test,y_test) = fashion_mnist.load_data()\n",
    "plt.imshow(x_train[0],cmap =\"gray\")\n",
    "plt.show()\n",
    "x_train = np.reshape(x_train, (60000,28,28,1))\n",
    "y_train = to_categorical(y_train)\n",
    "#建模型\n",
    "model = Sequential()\n",
    "model.add(Conv2D(32,kernel_size = (2, 2),activation = 'relu',input_shape=(28,28,1)))\n",
    "model.add(Conv2D(32,kernel_size = (2, 2),activation = 'relu'))\n",
    "model.add(MaxPooling2D(pool_size=(2,2)))\n",
    "\n",
    "model.add(Flatten())\n",
    "model.add(Dense(128,activation='relu'))\n",
    "model.add(Dense(10,activation='softmax'))\n",
    "model.compile(loss = \"categorical_crossentropy\",optimizer=\"adam\",metrics=['accuracy'])\n",
    "model.fit(x_train,y_train,batch_size=256,epochs=5,validation_split=0.2)\n"
   ]
  },
  {
   "cell_type": "code",
   "execution_count": null,
   "metadata": {},
   "outputs": [],
   "source": [
    "df = pandas.read_csv(\"PRSA_data_2010.1.1-2014.12.31.csv\")\n",
    "#將字串先變數字\n",
    "df=df.replace(\"NW\",0)\n",
    "df=df.replace(\"NE\",1)\n",
    "df=df.replace(\"cv\",2)\n",
    "df=df.replace(\"SE\",3)\n",
    "df=df.fillna(0)\n",
    "x_train1 = []\n",
    "y_train1 = []\n",
    "\n",
    "for i in range(len(df)-24):\n",
    "    for j in range(25):\n",
    "        tempList=[]\n",
    "        y_train1.append(df.iloc[i+j][5])\n",
    "        for k in range(6,13):\n",
    "            tempList.append(df.iloc[i+j][k])\n",
    "        x_train1.append(tempList)\n",
    "#scaler = StandardScaler()\n",
    "#scaler.fit(x_train1)\n",
    "#x_train1 = scaler.transform(x_train1)\n",
    "x_train1 = np.reshape(x_train1, (len(x_train1),1,7))\n",
    "y_train1 = np.reshape(y_train1, (len(y_train1),1))\n",
    "\n",
    "\n",
    "model1 = Sequential()\n",
    "model1.add(LSTM(128,input_shape=(1,7)))\n",
    "model1.add(Dense(64,activation='relu'))\n",
    "model1.add(Dense(32,activation='relu'))\n",
    "model1.add(Dense(1,activation='relu'))\n",
    "model1.compile(loss = 'mse',optimizer=\"adam\",metrics=['mse'])\n",
    "model1.fit(x_train1,y_train1,batch_size=8,epochs=5,validation_split=0.2)\n"
   ]
  },
  {
   "cell_type": "markdown",
   "metadata": {},
   "source": [
    "# Server"
   ]
  },
  {
   "cell_type": "code",
   "execution_count": null,
   "metadata": {},
   "outputs": [],
   "source": [
    "import _thread\n",
    "import socket\n",
    "import threading\n",
    "\n",
    "# HOSTip = '127.0.0.1'\n",
    "HOSTip = 'ip'\n",
    "PORTnum = 55688\n",
    "ClientMaxNum = 2\n",
    "\n",
    "def client_handler_arduino(connection):\n",
    "    connection.send(str.encode('I\\'m Ranyu\\'s Raspberrypi\\n'))\n",
    "\n",
    "    while True:\n",
    "        clientMessage = str(connection.recv(1024), encoding='utf-8')\n",
    "        print('Client:{}'.format(clientMessage))\n",
    "\n",
    "def client_handler_phone(connection):\n",
    "    connection.send('I\\'m Ranyu\\'s Raspberrypi\\n'.encode('utf-8'))\n",
    "    # connection.send('IRan\\n'.encode(\"utf-8\"))\n",
    "    while True:\n",
    "        clientMessage = str(connection.recv(1024), encoding='utf-8')\n",
    "        print('Client:{}'.format(clientMessage))\n",
    "\n",
    "class rasp_server(threading.Thread):\n",
    "    def __init__(self):\n",
    "        threading.Thread.__init__(self)\n",
    "        self.clientThreadCount = 0\n",
    "    def run(self):\n",
    "        HOST = HOSTip\n",
    "        PORT = PORTnum\n",
    "\n",
    "        server = socket.socket(socket.AF_INET, socket.SOCK_STREAM)\n",
    "        server.bind((HOST, PORT))\n",
    "        server.listen(ClientMaxNum)\n",
    "\n",
    "        print('Waiting for Connection...')\n",
    "        while True:\n",
    "            # 等待任一Client連線\n",
    "            Client, address = server.accept()\n",
    "            print('Connected to: {}:{}'.format(address[0], str(address[1])))\n",
    "\n",
    "            # 開啟兩端溝通Thread\n",
    "            clientIdentify = str(Client.recv(1024), encoding=\"utf-8\")\n",
    "\n",
    "            if clientIdentify == 'Phone':\n",
    "                threading.Thread(target=client_handler_phone, args=(Client,)).start()\n",
    "\n",
    "            self.clientThreadCount += 1\n",
    "            print('Thread Number: {}'.format(self.clientThreadCount))\n",
    "\n",
    "if __name__ == '__main__':\n",
    "    # HOSTip = input('IP =')\n",
    "    # PORTnum = input('PORT = ')\n",
    "    ServerTd = rasp_server()\n",
    "    ServerTd.start()"
   ]
  }
 ],
 "metadata": {
  "interpreter": {
   "hash": "704057598206a19e53c5e0a1473ca7052994a01cfde513900a2ecdd52bdfd231"
  },
  "kernelspec": {
   "display_name": "Python 3.8.0 32-bit ('basic': venv)",
   "name": "python3"
  },
  "language_info": {
   "codemirror_mode": {
    "name": "ipython",
    "version": 3
   },
   "file_extension": ".py",
   "mimetype": "text/x-python",
   "name": "python",
   "nbconvert_exporter": "python",
   "pygments_lexer": "ipython3",
   "version": "3.8.0"
  },
  "orig_nbformat": 4
 },
 "nbformat": 4,
 "nbformat_minor": 2
}
