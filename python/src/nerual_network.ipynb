{
 "cells": [
  {
   "cell_type": "markdown",
   "metadata": {},
   "source": [
    "#### Basic Back Propagation"
   ]
  },
  {
   "cell_type": "code",
   "execution_count": null,
   "metadata": {},
   "outputs": [],
   "source": [
    "import numpy as np\n",
    "import cv2\n",
    "import os\n",
    "from os import listdir\n",
    "from os.path import isfile, join\n",
    "weights = {}"
   ]
  },
  {
   "cell_type": "markdown",
   "metadata": {},
   "source": [
    "##### dataset"
   ]
  },
  {
   "cell_type": "code",
   "execution_count": null,
   "metadata": {},
   "outputs": [],
   "source": [
    "class Data_set():\n",
    "    def read_data(data_path):\n",
    "        base_x_train=[]\n",
    "        base_y_train=[]\n",
    "        label_folder = []\n",
    "        total_size = 0\n",
    "        for root, dirts, files in os.walk(data_path):\n",
    "            for dirt in dirts:\n",
    "                label_folder.append(dirt)\n",
    "            total_size += len(files)\n",
    "        for i in range(len(label_folder)):\n",
    "            print(label_folder[i])\n",
    "            labelPath = data_path+r'\\\\'+label_folder[i]\n",
    "            FileName = [f for f in listdir(labelPath) if isfile(join(labelPath, f))]\n",
    "            for j in range(len(FileName)):\n",
    "                path = labelPath+r'\\\\'+FileName[j]\n",
    "                img = cv2.imread(path, cv2.IMREAD_GRAYSCALE)\n",
    "                img = cv2.normalize(img,0,1,norm_type=cv2.NORM_MINMAX)\n",
    "                base_x_train.append(np.array(img).reshape(28*28,1).astype(np.float16))\n",
    "                base_y_train.append(label_folder[i])\n",
    "        print(np.array(base_x_train).shape)\n",
    "        indexs = np.random.choice(total_size,total_size, replace=False)\n",
    "        print(indexs)\n",
    "        return base_x_train, base_y_train, indexs, total_size\n",
    "\n",
    "    def read_testdata(data_path):\n",
    "        FileName = []\n",
    "        total_size = 0\n",
    "        base_x_test=[]\n",
    "        for root, dirts, files in os.walk(data_path):\n",
    "            for file in files:\n",
    "                FileName.append(file)\n",
    "            total_size += len(files)\n",
    "        for filename in FileName:\n",
    "            imgPath = data_path +r'\\\\'+ filename\n",
    "            img = cv2.imread(imgPath, cv2.IMREAD_GRAYSCALE)\n",
    "            img = cv2.normalize(img,0,1,norm_type=cv2.NORM_MINMAX)\n",
    "            base_x_test.append(np.array(img).reshape(28*28,1).astype(np.float16))\n",
    "        return FileName, base_x_test\n",
    "\n",
    "    def write_data(data_path,FileName,y_pred):\n",
    "        for index,filename in enumerate(FileName):\n",
    "            path = data_path +r'\\\\711083115.txt'\n",
    "            txt_name = filename.split('.')[0]\n",
    "\n",
    "            with open(path,'a') as f:\n",
    "                f.write(txt_name + \" \" + str(y_pred[index])+\"\\n\")\n",
    "    def test_accuracy():\n",
    "        data_path = r\"D:\\Code\\py\\NerualNetwork\\data\\Train data\"\n",
    "        f1 = r\"test_Ans.txt\"\n",
    "        f2 = r\"711083115.txt\"\n",
    "        ans = {}\n",
    "        pre = {}\n",
    "        total_size = 0\n",
    "        acc = 0\n",
    "        err = 0\n",
    "        with open(data_path+\"\\\\\"+f2) as p:\n",
    "            for line in p.readlines():\n",
    "                t = line.split(\" \")\n",
    "                pre[t[0]] = t[1]\n",
    "\n",
    "        with open(data_path+r\"\\\\\"+f1) as a:\n",
    "            for line in a.readlines():\n",
    "                total_size+=1\n",
    "                t = line.split(\" \")\n",
    "                ans[t[0]] = t[1]\n",
    "\n",
    "        for key, values in ans.items():\n",
    "            if pre[key] == values:\n",
    "                acc += 1\n",
    "            else:\n",
    "                err += 1\n",
    "        print(\"acc: \", (acc/total_size)*100)\n",
    "        print(\"err: \", (err/total_size)*100)\n"
   ]
  },
  {
   "cell_type": "markdown",
   "metadata": {},
   "source": [
    "##### activate function\n"
   ]
  },
  {
   "cell_type": "code",
   "execution_count": null,
   "metadata": {},
   "outputs": [],
   "source": [
    "class activate_function():\n",
    "    def sigmoid (x):\n",
    "        return 1/(1+np.exp(-x))\n",
    "    \n",
    "    def threshold(x):\n",
    "        if x >= 0.5:\n",
    "            return 1\n",
    "        else:\n",
    "            return 0"
   ]
  },
  {
   "cell_type": "markdown",
   "metadata": {},
   "source": [
    "##### network"
   ]
  },
  {
   "cell_type": "code",
   "execution_count": null,
   "metadata": {},
   "outputs": [],
   "source": [
    "class network():\n",
    "    def createHidden(layer,inputsize, outputsize):\n",
    "        num = round(np.sqrt(6/(inputsize+outputsize)),5)\n",
    "        weights[layer] = np.asmatrix(np.random.uniform(-num,num,outputsize*inputsize).reshape(outputsize, inputsize))\n",
    "\n",
    "\n",
    "    def deltaW (output, Error):\n",
    "        one = np.asmatrix(np.ones(output.size)).T   \n",
    "        deltaset = np.multiply(np.multiply(output, (one-output)),Error).astype('float16')\n",
    "        return deltaset"
   ]
  },
  {
   "cell_type": "markdown",
   "metadata": {},
   "source": [
    "##### Main file"
   ]
  },
  {
   "cell_type": "code",
   "execution_count": null,
   "metadata": {},
   "outputs": [],
   "source": [
    "#from network import *\n",
    "import time\n",
    "import numpy\n",
    "import matplotlib.pyplot as plt\n",
    "import cv2\n",
    "delta_w = {}\n",
    "\n",
    "def train(x,y,learningrate):\n",
    "    layerOutput = {}\n",
    "\n",
    "    for layer, w in weights.items():\n",
    "        if layer == \"I_h1\":\n",
    "            tmp = x.copy()\n",
    "        layerOutput[layer] = activate_function.sigmoid(np.dot(w,tmp)).astype(np.float16)\n",
    "        tmp = layerOutput[layer]\n",
    "        if layer == \"h1_O\":\n",
    "            predict = tmp\n",
    "    delta = {}\n",
    "    # bp\n",
    "    if np.all(predict != y):\n",
    "        # delta\n",
    "        for layer, value in reversed(layerOutput.items()):\n",
    "            if layer == \"h1_O\":\n",
    "                delta[layer] = network.deltaW(predict, y- predict)\n",
    "            else:\n",
    "                delta[layer] = network.deltaW(value, weights[prelayer].T*delta[prelayer])\n",
    "            prelayer = layer\n",
    "        #learning*del*input = delta_w\n",
    "        for layer, value in weights.items():\n",
    "            if layer == \"I_h1\":\n",
    "                input = x.T\n",
    "            else:\n",
    "                input = layerOutput[prelayer].T\n",
    "            try:\n",
    "                delta_w[layer] = np.sum([delta_w[layer],learningrate*delta[layer]*input], axis=0)\n",
    "            except:\n",
    "                delta_w[layer] = learningrate*delta[layer]*input\n",
    "            prelayer = layer\n",
    "\n",
    "# 4861/5000 97.22 accuracy\n",
    "def evaluate(indexs,x_train,y_train):\n",
    "    accuracy = 0\n",
    "    # error = 0\n",
    "    for index in indexs:\n",
    "        x = x_train[index]\n",
    "        num = int(y_train[index])\n",
    "        # y = np.asmatrix([0,0,0,0,0,0,0,0,0,0]).reshape(10,1)\n",
    "        # y[num] = 1\n",
    "        layerOutput = {}\n",
    "        for layer, w in weights.items():\n",
    "            if layer == \"I_h1\":\n",
    "                tmp = x.copy()\n",
    "            layerOutput[layer] = activate_function.sigmoid(np.dot(w,tmp)).astype(np.float16)\n",
    "            tmp = layerOutput[layer]\n",
    "            if layer == \"h1_O\":\n",
    "                predict = tmp\n",
    "                # t = y-predict\n",
    "                # error += 0.5*np.sum(np.multiply(t,t))\n",
    "        if np.argmax(predict) == num:\n",
    "            accuracy += 1\n",
    "    print(accuracy)\n",
    "    return accuracy/len(indexs)\n",
    "\n",
    "def test(x_test):\n",
    "    y_pred = []\n",
    "    for img in x_test:\n",
    "        layerOutput = {}\n",
    "        for layer, w in weights.items():\n",
    "            if layer == \"I_h1\":\n",
    "                tmp = img.copy()\n",
    "            layerOutput[layer] = activate_function.sigmoid(np.dot(w,tmp)).astype(np.float16)\n",
    "            tmp = layerOutput[layer]\n",
    "            if layer == \"h1_O\":\n",
    "                predict = tmp.copy()\n",
    "        y_pred.append(np.argmax(predict))\n",
    "    return y_pred\n",
    "\n",
    "if __name__ ==\"__main__\":\n",
    "    data_path=r\"D:\\Code\\py\\NerualNetwork\\data\\Training data\"\n",
    "    x_train, y_train, indexs,total_size=Data_set.read_data(data_path)\n",
    "    print(total_size)\n",
    "\n",
    "    learningrate = 0.1\n",
    "    network.createHidden(layer=\"I_h1\",inputsize=784,outputsize=64)\n",
    "    network.createHidden(layer=\"h1_O\",inputsize=64,outputsize=10)\n",
    "    \n",
    "    for epoch in range(15):\n",
    "        k=0\n",
    "        st= time.time()\n",
    "        for index in indexs:\n",
    "            x = x_train[index]\n",
    "            y = np.asmatrix([0,0,0,0,0,0,0,0,0,0]).reshape(10,1)\n",
    "            num = int(y_train[index])\n",
    "            y[num] = 1\n",
    "            train(x,y,learningrate)\n",
    "\n",
    "            for layer, value in delta_w.items():\n",
    "                weights[layer] += value                       #debug 2天 +->-\n",
    "            delta_w={}\n",
    "        acc =evaluate(indexs, x_train, y_train)\n",
    "        e = time.time()\n",
    "        print(\"Iter: {index:>4d}, accuracy: {accuracys: .4f}, time: {time: .4f}\".format(index=epoch,accuracys=acc*100,time=e-st))\n",
    "    test_path = r\"D:\\Code\\py\\NerualNetwork\\data\\Testing data\"\n",
    "    fileName, x_test=Data_set.read_testdata(test_path)\n",
    "    y_pred = test(x_test)\n",
    "    result_path = r\"D:\\Code\\py\\NerualNetwork\\data\"\n",
    "    Data_set.write_data(result_path, fileName, y_pred)\n",
    "    # Data_set.test_accuracy()"
   ]
  },
  {
   "cell_type": "markdown",
   "metadata": {},
   "source": [
    "#### Build simple CNN"
   ]
  },
  {
   "cell_type": "markdown",
   "metadata": {},
   "source": [
    "##### Importing the necessary modules"
   ]
  },
  {
   "cell_type": "code",
   "execution_count": null,
   "metadata": {},
   "outputs": [],
   "source": [
    "import numpy as np\n",
    "import os\n",
    "from os import listdir \n",
    "from os.path import isfile, join\n",
    "import cv2\n",
    "\n",
    "import tensorflow as tf\n",
    "import tensorflow.keras as keras\n",
    "print(tf.__version__)\n",
    "print(keras.__version__)"
   ]
  },
  {
   "cell_type": "markdown",
   "metadata": {},
   "source": [
    "##### Loading and Preprocessing"
   ]
  },
  {
   "cell_type": "code",
   "execution_count": null,
   "metadata": {},
   "outputs": [
    {
     "name": "stdout",
     "output_type": "stream",
     "text": [
      "found 25000 files.\n",
      "folder: ['0', '1', '2', '3', '4']\n"
     ]
    }
   ],
   "source": [
    "#Data visiting – os.walk()\n",
    "\n",
    "label_folder = []\n",
    "total_size = 0\n",
    "data_path = r\"C:\\Users\\anita\\Desktop\\TA\\CIFAR10_Test Image\\Training_data\"\n",
    "\n",
    "#os.walk() generates the file names(dirpath, dirnames, filenames) \n",
    "#in a directory tree by walking the tree either top-down or bottom-up.\n",
    "for root, dirts, files in os.walk(data_path): \n",
    "    for dirt in dirts:\n",
    "        label_folder.append(dirt)\n",
    "    total_size += len(files)\n",
    "\n",
    "    \n",
    "print(\"found\",total_size,\"files.\")\n",
    "print(\"folder:\",label_folder)"
   ]
  },
  {
   "cell_type": "code",
   "execution_count": null,
   "metadata": {},
   "outputs": [
    {
     "name": "stdout",
     "output_type": "stream",
     "text": [
      "(25000, 32, 32, 3)\n",
      "(25000,)\n"
     ]
    }
   ],
   "source": [
    "#Load image\n",
    "\n",
    "base_x_train = []\n",
    "base_y_train = []\n",
    "\n",
    "for i in range(len(label_folder)):\n",
    "    labelPath = data_path+r'\\\\'+label_folder[i]\n",
    "    \n",
    "    #listdir() returns a list containing the names of the entries in the directory given by path.\n",
    "    #isfile() is used to check whether the specified path is an existing regular file or not.\n",
    "    FileName = [f for f in listdir(labelPath) if isfile(join(labelPath, f))]\n",
    "    \n",
    "    for j in range(len(FileName)):\n",
    "        path = labelPath+r'\\\\'+FileName[j]\n",
    "        \n",
    "        #use cv2.imread read image.\n",
    "        img = cv2.imread(path,cv2.IMREAD_COLOR)\n",
    "        \n",
    "        base_x_train.append(img)\n",
    "        base_y_train.append(label_folder[i])\n",
    "\n",
    "\n",
    "print(np.array(base_x_train).shape)\n",
    "print(np.array(base_y_train).shape)\n",
    "        "
   ]
  },
  {
   "cell_type": "code",
   "execution_count": null,
   "metadata": {},
   "outputs": [
    {
     "name": "stdout",
     "output_type": "stream",
     "text": [
      "(25000, 32, 32, 3)\n",
      "(25000, 5)\n"
     ]
    }
   ],
   "source": [
    "from tensorflow.keras.utils import to_categorical\n",
    "\n",
    "#Convert a category vector to a binary (0 or 1) matrix-type representation\n",
    "\n",
    "base_y_train = to_categorical(base_y_train)\n",
    "\n",
    "\n",
    "print(np.array(base_x_train).shape)\n",
    "print(np.array(base_y_train).shape)\n",
    "        "
   ]
  },
  {
   "cell_type": "code",
   "execution_count": null,
   "metadata": {},
   "outputs": [
    {
     "name": "stdout",
     "output_type": "stream",
     "text": [
      "(25000, 32, 32, 3)\n",
      "(25000, 5)\n"
     ]
    }
   ],
   "source": [
    "from tensorflow.keras.utils import to_categorical\n",
    "\n",
    "#Convert a category vector to a binary (0 or 1) matrix-type representation\n",
    "\n",
    "base_y_train = to_categorical(base_y_train)\n",
    "\n",
    "\n",
    "print(np.array(base_x_train).shape)\n",
    "print(np.array(base_y_train).shape)\n",
    "        "
   ]
  },
  {
   "cell_type": "code",
   "execution_count": null,
   "metadata": {},
   "outputs": [
    {
     "name": "stdout",
     "output_type": "stream",
     "text": [
      "(25000, 32, 32, 3)\n",
      "(25000,)\n"
     ]
    }
   ],
   "source": [
    "#Load image\n",
    "\n",
    "base_x_train = []\n",
    "base_y_train = []\n",
    "\n",
    "for i in range(len(label_folder)):\n",
    "    labelPath = data_path+r'\\\\'+label_folder[i]\n",
    "    \n",
    "    #listdir() returns a list containing the names of the entries in the directory given by path.\n",
    "    #isfile() is used to check whether the specified path is an existing regular file or not.\n",
    "    FileName = [f for f in listdir(labelPath) if isfile(join(labelPath, f))]\n",
    "    \n",
    "    for j in range(len(FileName)):\n",
    "        path = labelPath+r'\\\\'+FileName[j]\n",
    "        \n",
    "        #use cv2.imread read image.\n",
    "        img = cv2.imread(path,cv2.IMREAD_COLOR)\n",
    "        \n",
    "        base_x_train.append(img)\n",
    "        base_y_train.append(label_folder[i])\n",
    "\n",
    "\n",
    "print(np.array(base_x_train).shape)\n",
    "print(np.array(base_y_train).shape)\n",
    "        "
   ]
  },
  {
   "cell_type": "markdown",
   "metadata": {},
   "source": [
    "##### Splitting the Data into training and validation data"
   ]
  },
  {
   "cell_type": "code",
   "execution_count": null,
   "metadata": {},
   "outputs": [
    {
     "name": "stdout",
     "output_type": "stream",
     "text": [
      "Training data: (23750, 32, 32, 3) (23750, 5)\n",
      "Validation data: (1250, 32, 32, 3) (1250, 5)\n"
     ]
    }
   ],
   "source": [
    "# Split into training and validation sets\n",
    "train_num = 23750\n",
    "x_train, x_valid = np.array(base_x_train)[:train_num], np.array(base_x_train)[train_num:]\n",
    "y_train, y_valid = np.array(base_y_train)[:train_num], np.array(base_y_train)[train_num:]\n",
    "\n",
    "print(\"Training data:\", x_train.shape, y_train.shape)\n",
    "print(\"Validation data:\", x_valid.shape, y_valid.shape)"
   ]
  },
  {
   "cell_type": "markdown",
   "metadata": {},
   "source": [
    "##### Show the image"
   ]
  },
  {
   "cell_type": "code",
   "execution_count": null,
   "metadata": {},
   "outputs": [
    {
     "data": {
      "image/png": "[encoded data removed]",
      "text/plain": [
       "<Figure size 432x288 with 1 Axes>"
      ]
     },
     "metadata": {},
     "output_type": "display_data"
    },
    {
     "name": "stdout",
     "output_type": "stream",
     "text": [
      "Answer: 4\n",
      "Answer(one-hot): [0. 0. 0. 0. 1.]\n"
     ]
    }
   ],
   "source": [
    "import random\n",
    "import matplotlib.pyplot as plt\n",
    "\n",
    "idx = random.randint(0, x_train.shape[0])\n",
    "plt.imshow(x_train[idx])\n",
    "plt.show()\n",
    "\n",
    "print(\"Answer:\", np.argmax(y_train[idx]))\n",
    "print(\"Answer(one-hot):\", y_train[idx])"
   ]
  },
  {
   "cell_type": "markdown",
   "metadata": {},
   "source": [
    "##### Build the network"
   ]
  },
  {
   "cell_type": "code",
   "execution_count": null,
   "metadata": {},
   "outputs": [],
   "source": [
    "model = tf.keras.models.Sequential([\n",
    "    tf.keras.layers.Conv2D(8, (3, 3), padding=\"same\", activation='relu', input_shape=(32, 32, 3)),\n",
    "    tf.keras.layers.MaxPool2D(),\n",
    "    tf.keras.layers.Conv2D(16, (3, 3), padding=\"same\", activation='relu'),\n",
    "    tf.keras.layers.MaxPool2D(),\n",
    "    tf.keras.layers.Flatten(),\n",
    "    tf.keras.layers.Dense(128, activation=\"relu\"),\n",
    "    tf.keras.layers.Dense(64, activation=\"relu\"),\n",
    "    tf.keras.layers.Dense(5, activation=\"softmax\")\n",
    "])"
   ]
  },
  {
   "cell_type": "code",
   "execution_count": null,
   "metadata": {},
   "outputs": [
    {
     "name": "stdout",
     "output_type": "stream",
     "text": [
      "Model: \"sequential\"\n",
      "_________________________________________________________________\n",
      "Layer (type)                 Output Shape              Param #   \n",
      "=================================================================\n",
      "conv2d (Conv2D)              (None, 32, 32, 8)         224       \n",
      "_________________________________________________________________\n",
      "max_pooling2d (MaxPooling2D) (None, 16, 16, 8)         0         \n",
      "_________________________________________________________________\n",
      "conv2d_1 (Conv2D)            (None, 16, 16, 16)        1168      \n",
      "_________________________________________________________________\n",
      "max_pooling2d_1 (MaxPooling2 (None, 8, 8, 16)          0         \n",
      "_________________________________________________________________\n",
      "flatten (Flatten)            (None, 1024)              0         \n",
      "_________________________________________________________________\n",
      "dense (Dense)                (None, 128)               131200    \n",
      "_________________________________________________________________\n",
      "dense_1 (Dense)              (None, 64)                8256      \n",
      "_________________________________________________________________\n",
      "dense_2 (Dense)              (None, 5)                 325       \n",
      "=================================================================\n",
      "Total params: 141,173\n",
      "Trainable params: 141,173\n",
      "Non-trainable params: 0\n",
      "_________________________________________________________________\n",
      "None\n"
     ]
    }
   ],
   "source": [
    "# You can show the detail for it:\n",
    "print(model.summary())"
   ]
  },
  {
   "cell_type": "markdown",
   "metadata": {},
   "source": [
    "##### Training the network"
   ]
  },
  {
   "cell_type": "code",
   "execution_count": null,
   "metadata": {},
   "outputs": [
    {
     "name": "stdout",
     "output_type": "stream",
     "text": [
      "Epoch 1/10\n",
      "1188/1188 [==============================] - 9s 6ms/step - loss: 269.7774 - accuracy: 0.2118 - val_loss: 1.7562 - val_accuracy: 0.0000e+00\n",
      "Epoch 2/10\n",
      "1188/1188 [==============================] - 7s 6ms/step - loss: 1.6045 - accuracy: 0.2168 - val_loss: 1.8375 - val_accuracy: 0.0000e+00\n",
      "Epoch 3/10\n",
      "1188/1188 [==============================] - 6s 5ms/step - loss: 1.6032 - accuracy: 0.2111 - val_loss: 1.8389 - val_accuracy: 0.0000e+00\n",
      "Epoch 4/10\n",
      "1188/1188 [==============================] - 6s 5ms/step - loss: 1.6035 - accuracy: 0.2121 - val_loss: 1.8540 - val_accuracy: 0.0000e+00\n",
      "Epoch 5/10\n",
      "1188/1188 [==============================] - 6s 5ms/step - loss: 1.6030 - accuracy: 0.2095 - val_loss: 1.8408 - val_accuracy: 0.0000e+00\n",
      "Epoch 6/10\n",
      "1188/1188 [==============================] - 6s 5ms/step - loss: 1.6037 - accuracy: 0.2084 - val_loss: 1.8469 - val_accuracy: 0.0000e+00\n",
      "Epoch 7/10\n",
      "1188/1188 [==============================] - 6s 5ms/step - loss: 1.6043 - accuracy: 0.2098 - val_loss: 1.8506 - val_accuracy: 0.0000e+00\n",
      "Epoch 8/10\n",
      "1188/1188 [==============================] - 6s 5ms/step - loss: 1.6039 - accuracy: 0.2124 - val_loss: 1.8450 - val_accuracy: 0.0000e+00\n",
      "Epoch 9/10\n",
      "1188/1188 [==============================] - 6s 5ms/step - loss: 1.6042 - accuracy: 0.2128 - val_loss: 1.8543 - val_accuracy: 0.0000e+00\n",
      "Epoch 10/10\n",
      "1188/1188 [==============================] - 7s 6ms/step - loss: 1.6037 - accuracy: 0.2070 - val_loss: 1.8492 - val_accuracy: 0.0000e+00\n"
     ]
    }
   ],
   "source": [
    "epoch = 10\n",
    "batch_size = 20\n",
    "\n",
    "model.compile(\n",
    "    loss=\"categorical_crossentropy\", \n",
    "    optimizer=\"sgd\", \n",
    "    metrics=[\"accuracy\"]\n",
    ")\n",
    "history = model.fit(\n",
    "    x_train, \n",
    "    y_train, \n",
    "    epochs=epoch, \n",
    "    batch_size=batch_size,\n",
    "    validation_data=(x_valid, y_valid)\n",
    ")\n",
    "#Saving the trained weights\n",
    "model.save(\"my_model.hdf5\")"
   ]
  },
  {
   "cell_type": "markdown",
   "metadata": {},
   "source": [
    "#### Evaluate Model"
   ]
  },
  {
   "cell_type": "code",
   "execution_count": null,
   "metadata": {},
   "outputs": [],
   "source": [
    "import pandas as pd #need install \"canda install pandas\"\n",
    "\n",
    "pd.DataFrame(history.history).plot(figsize=(8, 5))\n",
    "plt.grid(True)\n",
    "plt.gca().set_ylim(0, 1)\n",
    "plt.show()\n",
    "\n",
    "model.evaluate(x_test, y_test)\n",
    "\n",
    "x_new = x_test[:3]\n",
    "y_predict = model.predict(x_new)\n",
    "print(\"Predict probabilities:\", y_predict.round(2))\n",
    "print(\"Predict answers:\", y_predict.argmax(axis=1))"
   ]
  },
  {
   "cell_type": "code",
   "execution_count": null,
   "metadata": {},
   "outputs": [],
   "source": [
    "\n",
    "# Get the classification accuracy and loss-value\n",
    "# for the training-set.\n",
    "acc = history.history['accuracy']\n",
    "loss = history.history['loss']\n",
    "\n",
    "# Get it for the validation-set (we only use the test-set).\n",
    "val_acc = history.history['val_accuracy']\n",
    "val_loss = history.history['val_loss']\n",
    "\n",
    "# Plot the accuracy and loss-values for the training-set.\n",
    "plt.plot(acc, linestyle='-', color='b', label='Training Acc.')\n",
    "plt.plot(loss, 'o', color='b', label='Training Loss')\n",
    "    \n",
    "# Plot it for the test-set.\n",
    "plt.plot(val_acc, linestyle='--', color='r', label='Val Acc.')\n",
    "plt.plot(val_loss, 'o', color='r', label='Val Loss')\n",
    "\n",
    "# Plot title and legend.\n",
    "plt.title('Training and Val Accuracy')\n",
    "plt.legend()\n",
    "\n",
    "# Ensure the plot shows correctly.\n",
    "plt.show()"
   ]
  }
 ],
 "metadata": {
  "language_info": {
   "name": "python"
  }
 },
 "nbformat": 4,
 "nbformat_minor": 2
}
